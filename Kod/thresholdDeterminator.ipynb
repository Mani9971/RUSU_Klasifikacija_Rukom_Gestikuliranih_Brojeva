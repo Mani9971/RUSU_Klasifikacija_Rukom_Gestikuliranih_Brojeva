{
 "cells": [
  {
   "cell_type": "code",
   "execution_count": null,
   "source": [
    "import numpy as np\r\n",
    "import cv2\r\n",
    "from sklearn.model_selection import train_test_split\r\n",
    "from tensorflow.keras.utils import to_categorical\r\n",
    "from tensorflow.keras.models import Sequential\r\n",
    "from tensorflow.keras.models import load_model\r\n",
    "from skimage.transform import resize\r\n",
    "import matplotlib.pyplot as plt\r\n",
    "import random\r\n",
    "from skimage import io\r\n",
    "import os"
   ],
   "outputs": [],
   "metadata": {}
  },
  {
   "cell_type": "code",
   "execution_count": null,
   "source": [
    "#dataset loading#\r\n",
    "input_paths = []\r\n",
    "y = []\r\n",
    "\r\n",
    "dir_path = r'path'\r\n",
    "if os.path.isdir(dir_path):\r\n",
    "    for i in sorted(os.listdir(dir_path)):\r\n",
    "        input_paths.append(os.path.join(dir_path, i))\r\n",
    "input_paths, y\r\n",
    "\r\n",
    "input_paths2 = []\r\n",
    "y2 = []\r\n",
    "\r\n",
    "pathToTrainTestFolder = 'Path'\r\n",
    "train_folderUp = 'folder'\r\n",
    "test_folderUp = 'folder'\r\n",
    "train_folders = ['zero','one','two','three','four','five','six','seven','eight','nine','ten','eleven',]\r\n",
    "\r\n",
    "for j in range(len(train_folders)):\r\n",
    "    for i in sorted(os.listdir(f'{pathToTrainTestFolder}/{train_folderUp}/{train_folders[j]}')):\r\n",
    "        input_paths2.append(os.path.join(f'{pathToTrainTestFolder}/{train_folderUp}/{train_folders[j]}', i))\r\n",
    "        y2.append(i)\r\n",
    "    input_paths2, y2"
   ],
   "outputs": [],
   "metadata": {}
  },
  {
   "cell_type": "code",
   "execution_count": null,
   "source": [
    "model = load_model('freshDatasetModel.h5')"
   ],
   "outputs": [],
   "metadata": {}
  },
  {
   "cell_type": "code",
   "execution_count": null,
   "source": [
    "size = 64\r\n",
    "\r\n",
    "X=[]\r\n",
    "\r\n",
    "for img_path in input_paths:\r\n",
    "    img = io.imread(img_path, as_gray=True)\r\n",
    "    img = resize(img, (size, size),\r\n",
    "                       anti_aliasing=True)\r\n",
    "    X.append(img)\r\n",
    "    #img = np.around(img)\r\n",
    "y = [1]*len(X)\r\n",
    "\r\n",
    "for img_path2 in input_paths2:\r\n",
    "    img = io.imread(img_path2, as_gray=True)\r\n",
    "    img = resize(img, (size, size),\r\n",
    "                       anti_aliasing=True)\r\n",
    "    X.append(img)\r\n",
    "    #img = np.around(img)\r\n",
    "y += [0]*(len(X)-len(y))\r\n",
    "\r\n",
    "X = np.array(X)\r\n",
    "y = np.array(y)"
   ],
   "outputs": [],
   "metadata": {}
  },
  {
   "cell_type": "code",
   "execution_count": null,
   "source": [
    "X_train, X_test, y_train, y_test = train_test_split(X,y, test_size=0.20)\r\n",
    "\r\n",
    "X_train = np.expand_dims(X_train, 3)\r\n",
    "X_test = np.expand_dims(X_test, 3)\r\n",
    "\r\n",
    "y_pred_proba_train = model.predict_proba(X_train)\r\n",
    "\r\n",
    "\r\n",
    "thresholds = np.linspace(0,1,50)\r\n",
    "\r\n",
    "Accs=[]\r\n",
    "for threshold in thresholds:\r\n",
    "    y_pred_train = y_pred_proba_train.max(axis=1) < threshold\r\n",
    "    acc = (y_pred_train == y_train).sum()/y_train.shape[0]\r\n",
    "    Accs.append(acc)\r\n",
    "\r\n",
    "Accs = np.array(Accs)\r\n",
    "\r\n",
    "plt.plot(thresholds,Accs)\r\n",
    "\r\n",
    "plt.show()\r\n",
    "\r\n",
    "\r\n",
    "\r\n",
    "y_train.shape"
   ],
   "outputs": [],
   "metadata": {}
  }
 ],
 "metadata": {
  "orig_nbformat": 4,
  "language_info": {
   "name": "python",
   "version": "3.7.4",
   "mimetype": "text/x-python",
   "codemirror_mode": {
    "name": "ipython",
    "version": 3
   },
   "pygments_lexer": "ipython3",
   "nbconvert_exporter": "python",
   "file_extension": ".py"
  },
  "kernelspec": {
   "name": "python3",
   "display_name": "Python 3.7.4 64-bit ('tf-gpu': conda)"
  },
  "interpreter": {
   "hash": "0c645559e2b232c3e251c71695280664f6b8b4690a8e2aed1fdfd7e30acbcf33"
  }
 },
 "nbformat": 4,
 "nbformat_minor": 2
}