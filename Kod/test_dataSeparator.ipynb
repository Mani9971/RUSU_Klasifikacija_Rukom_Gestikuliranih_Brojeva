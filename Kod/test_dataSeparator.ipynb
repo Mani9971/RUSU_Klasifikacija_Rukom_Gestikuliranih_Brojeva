{
 "metadata": {
  "language_info": {
   "codemirror_mode": {
    "name": "ipython",
    "version": 3
   },
   "file_extension": ".py",
   "mimetype": "text/x-python",
   "name": "python",
   "nbconvert_exporter": "python",
   "pygments_lexer": "ipython3",
   "version": "3.7.4"
  },
  "orig_nbformat": 4,
  "kernelspec": {
   "name": "python3",
   "display_name": "Python 3.7.4 64-bit ('tf-gpu': conda)"
  },
  "interpreter": {
   "hash": "0c645559e2b232c3e251c71695280664f6b8b4690a8e2aed1fdfd7e30acbcf33"
  }
 },
 "nbformat": 4,
 "nbformat_minor": 2,
 "cells": [
  {
   "cell_type": "code",
   "execution_count": 2,
   "source": [
    "from PIL import Image, ImageOps\r\n",
    "import cv2\r\n",
    "from skimage.io import imread_collection\r\n",
    "import glob"
   ],
   "outputs": [],
   "metadata": {}
  },
  {
   "cell_type": "code",
   "execution_count": 1,
   "source": [
    "#GETTING 20% IF IMAGES FROM NEWDATASET AND MOVING THEM TO TEST FOLDER\r\n",
    "\r\n",
    "import shutil\r\n",
    "import random\r\n",
    "import os\r\n",
    "#dataset loading\r\n",
    "input_paths = []\r\n",
    "y = []\r\n",
    "\r\n",
    "pathToTrainTestFolder = 'path'\r\n",
    "train_folderUp = 'freshDataset_train'\r\n",
    "test_folderUp = 'freshDataset_test'\r\n",
    "train_folders = ['zero','one','two','three','four','five','six','seven','eight','nine','ten','eleven',]\r\n",
    "\r\n",
    "for j in range(len(train_folders)):\r\n",
    "    #Dohvacanje imena slika\r\n",
    "    input_paths = []\r\n",
    "    y = []\r\n",
    "    for i in sorted(os.listdir(f'{train_folderUp}/{train_folders[j]}')):\r\n",
    "        input_paths.append(os.path.join(f'{pathToTrainTestFolder}/{train_folderUp}/{train_folders[j]}', i))\r\n",
    "        y.append(i)\r\n",
    "    input_paths, y\r\n",
    "\r\n",
    "    twentyPercent = round(len(input_paths)*0.2)\r\n",
    "    shuffled = []\r\n",
    "\r\n",
    "    randomNumbers = random.sample(range(len(input_paths)), twentyPercent)\r\n",
    "\r\n",
    "    for randomNumber in randomNumbers:\r\n",
    "        shutil.move(input_paths[randomNumber], f'{pathToTrainTestFolder}/{test_folderUp}/{train_folders[j]}')#Train and test folders have same names so i can reuse train_fodlers\r\n"
   ],
   "outputs": [],
   "metadata": {}
  },
  {
   "cell_type": "code",
   "execution_count": null,
   "source": [],
   "outputs": [],
   "metadata": {}
  }
 ]
}